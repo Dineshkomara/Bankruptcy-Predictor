{
 "cells": [
  {
   "cell_type": "markdown",
   "id": "readme-1",
   "metadata": {},
   "source": [
    "## **Import Required Libraries**\n",
    "--- \n",
    "Import the necessary libraries for data manipulation and modeling. **`pandas`** for data analysis, **`LableEncoder`** for encoding the categorical into numerical values and **`train_test_split`** for splitting the data into training and testing sets."
   ]
  },
  {
   "cell_type": "code",
   "execution_count": 2,
   "id": "736cd893",
   "metadata": {},
   "outputs": [],
   "source": [
    "import pandas as pd\n",
    "from sklearn.preprocessing import LabelEncoder\n",
    "from sklearn.model_selection import train_test_split"
   ]
  },
  {
   "cell_type": "markdown",
   "id": "readme-2",
   "metadata": {},
   "source": [
    "## **Load Data**\n",
    "---\n",
    "read the data from the **`Bankruptcy.csv`** file into a pandas DataFrame and display the first 5 rows of the DataFrame to understand the data structure."
   ]
  },
  {
   "cell_type": "code",
   "execution_count": 3,
   "id": "c18fed2f",
   "metadata": {},
   "outputs": [
    {
     "data": {
      "text/html": [
       "<div>\n",
       "<style scoped>\n",
       "    .dataframe tbody tr th:only-of-type {\n",
       "        vertical-align: middle;\n",
       "    }\n",
       "\n",
       "    .dataframe tbody tr th {\n",
       "        vertical-align: top;\n",
       "    }\n",
       "\n",
       "    .dataframe thead th {\n",
       "        text-align: right;\n",
       "    }\n",
       "</style>\n",
       "<table border=\"1\" class=\"dataframe\">\n",
       "  <thead>\n",
       "    <tr style=\"text-align: right;\">\n",
       "      <th></th>\n",
       "      <th>industrial_risk</th>\n",
       "      <th>management_risk</th>\n",
       "      <th>financial_flexibility</th>\n",
       "      <th>credibility</th>\n",
       "      <th>competitiveness</th>\n",
       "      <th>operating_risk</th>\n",
       "      <th>class</th>\n",
       "      <th>Unnamed: 7</th>\n",
       "      <th>Unnamed: 8</th>\n",
       "      <th>Unnamed: 9</th>\n",
       "      <th>...</th>\n",
       "      <th>Unnamed: 16</th>\n",
       "      <th>Unnamed: 17</th>\n",
       "      <th>Unnamed: 18</th>\n",
       "      <th>Unnamed: 19</th>\n",
       "      <th>Unnamed: 20</th>\n",
       "      <th>Unnamed: 21</th>\n",
       "      <th>Unnamed: 22</th>\n",
       "      <th>Unnamed: 23</th>\n",
       "      <th>Unnamed: 24</th>\n",
       "      <th>Unnamed: 25</th>\n",
       "    </tr>\n",
       "  </thead>\n",
       "  <tbody>\n",
       "    <tr>\n",
       "      <th>0</th>\n",
       "      <td>0.5</td>\n",
       "      <td>1.0</td>\n",
       "      <td>0.0</td>\n",
       "      <td>0.0</td>\n",
       "      <td>0.0</td>\n",
       "      <td>0.5</td>\n",
       "      <td>bankruptcy</td>\n",
       "      <td>NaN</td>\n",
       "      <td>NaN</td>\n",
       "      <td>NaN</td>\n",
       "      <td>...</td>\n",
       "      <td>NaN</td>\n",
       "      <td>NaN</td>\n",
       "      <td>NaN</td>\n",
       "      <td>NaN</td>\n",
       "      <td>NaN</td>\n",
       "      <td>NaN</td>\n",
       "      <td>NaN</td>\n",
       "      <td>NaN</td>\n",
       "      <td>NaN</td>\n",
       "      <td>NaN</td>\n",
       "    </tr>\n",
       "    <tr>\n",
       "      <th>1</th>\n",
       "      <td>0.0</td>\n",
       "      <td>1.0</td>\n",
       "      <td>0.0</td>\n",
       "      <td>0.0</td>\n",
       "      <td>0.0</td>\n",
       "      <td>1.0</td>\n",
       "      <td>bankruptcy</td>\n",
       "      <td>NaN</td>\n",
       "      <td>NaN</td>\n",
       "      <td>NaN</td>\n",
       "      <td>...</td>\n",
       "      <td>NaN</td>\n",
       "      <td>NaN</td>\n",
       "      <td>NaN</td>\n",
       "      <td>NaN</td>\n",
       "      <td>NaN</td>\n",
       "      <td>NaN</td>\n",
       "      <td>NaN</td>\n",
       "      <td>NaN</td>\n",
       "      <td>NaN</td>\n",
       "      <td>NaN</td>\n",
       "    </tr>\n",
       "    <tr>\n",
       "      <th>2</th>\n",
       "      <td>1.0</td>\n",
       "      <td>0.0</td>\n",
       "      <td>0.0</td>\n",
       "      <td>0.0</td>\n",
       "      <td>0.0</td>\n",
       "      <td>1.0</td>\n",
       "      <td>bankruptcy</td>\n",
       "      <td>NaN</td>\n",
       "      <td>NaN</td>\n",
       "      <td>NaN</td>\n",
       "      <td>...</td>\n",
       "      <td>NaN</td>\n",
       "      <td>NaN</td>\n",
       "      <td>NaN</td>\n",
       "      <td>NaN</td>\n",
       "      <td>NaN</td>\n",
       "      <td>NaN</td>\n",
       "      <td>NaN</td>\n",
       "      <td>NaN</td>\n",
       "      <td>NaN</td>\n",
       "      <td>NaN</td>\n",
       "    </tr>\n",
       "    <tr>\n",
       "      <th>3</th>\n",
       "      <td>0.5</td>\n",
       "      <td>0.0</td>\n",
       "      <td>0.0</td>\n",
       "      <td>0.5</td>\n",
       "      <td>0.0</td>\n",
       "      <td>1.0</td>\n",
       "      <td>bankruptcy</td>\n",
       "      <td>NaN</td>\n",
       "      <td>NaN</td>\n",
       "      <td>NaN</td>\n",
       "      <td>...</td>\n",
       "      <td>NaN</td>\n",
       "      <td>NaN</td>\n",
       "      <td>NaN</td>\n",
       "      <td>NaN</td>\n",
       "      <td>NaN</td>\n",
       "      <td>NaN</td>\n",
       "      <td>NaN</td>\n",
       "      <td>NaN</td>\n",
       "      <td>NaN</td>\n",
       "      <td>NaN</td>\n",
       "    </tr>\n",
       "    <tr>\n",
       "      <th>4</th>\n",
       "      <td>1.0</td>\n",
       "      <td>1.0</td>\n",
       "      <td>0.0</td>\n",
       "      <td>0.0</td>\n",
       "      <td>0.0</td>\n",
       "      <td>1.0</td>\n",
       "      <td>bankruptcy</td>\n",
       "      <td>NaN</td>\n",
       "      <td>NaN</td>\n",
       "      <td>NaN</td>\n",
       "      <td>...</td>\n",
       "      <td>NaN</td>\n",
       "      <td>NaN</td>\n",
       "      <td>NaN</td>\n",
       "      <td>NaN</td>\n",
       "      <td>NaN</td>\n",
       "      <td>NaN</td>\n",
       "      <td>NaN</td>\n",
       "      <td>NaN</td>\n",
       "      <td>NaN</td>\n",
       "      <td>NaN</td>\n",
       "    </tr>\n",
       "  </tbody>\n",
       "</table>\n",
       "<p>5 rows × 26 columns</p>\n",
       "</div>"
      ],
      "text/plain": [
       "   industrial_risk  management_risk  financial_flexibility  credibility  \\\n",
       "0              0.5              1.0                    0.0          0.0   \n",
       "1              0.0              1.0                    0.0          0.0   \n",
       "2              1.0              0.0                    0.0          0.0   \n",
       "3              0.5              0.0                    0.0          0.5   \n",
       "4              1.0              1.0                    0.0          0.0   \n",
       "\n",
       "   competitiveness  operating_risk       class  Unnamed: 7  Unnamed: 8  \\\n",
       "0              0.0             0.5  bankruptcy         NaN         NaN   \n",
       "1              0.0             1.0  bankruptcy         NaN         NaN   \n",
       "2              0.0             1.0  bankruptcy         NaN         NaN   \n",
       "3              0.0             1.0  bankruptcy         NaN         NaN   \n",
       "4              0.0             1.0  bankruptcy         NaN         NaN   \n",
       "\n",
       "   Unnamed: 9  ...  Unnamed: 16  Unnamed: 17  Unnamed: 18  Unnamed: 19  \\\n",
       "0         NaN  ...          NaN          NaN          NaN          NaN   \n",
       "1         NaN  ...          NaN          NaN          NaN          NaN   \n",
       "2         NaN  ...          NaN          NaN          NaN          NaN   \n",
       "3         NaN  ...          NaN          NaN          NaN          NaN   \n",
       "4         NaN  ...          NaN          NaN          NaN          NaN   \n",
       "\n",
       "   Unnamed: 20  Unnamed: 21  Unnamed: 22  Unnamed: 23  Unnamed: 24  \\\n",
       "0          NaN          NaN          NaN          NaN          NaN   \n",
       "1          NaN          NaN          NaN          NaN          NaN   \n",
       "2          NaN          NaN          NaN          NaN          NaN   \n",
       "3          NaN          NaN          NaN          NaN          NaN   \n",
       "4          NaN          NaN          NaN          NaN          NaN   \n",
       "\n",
       "   Unnamed: 25  \n",
       "0          NaN  \n",
       "1          NaN  \n",
       "2          NaN  \n",
       "3          NaN  \n",
       "4          NaN  \n",
       "\n",
       "[5 rows x 26 columns]"
      ]
     },
     "execution_count": 3,
     "metadata": {},
     "output_type": "execute_result"
    }
   ],
   "source": [
    "data1=pd.read_csv('Bankruptcy.csv')\n",
    "data1.head()"
   ]
  },
  {
   "cell_type": "markdown",
   "id": "ee7a3afb",
   "metadata": {},
   "source": [
    "## **Data Preprocessing**\n",
    "\n",
    "---\n",
    "Get the data upto class removing all unnamed data, then heck If there were any null values present"
   ]
  },
  {
   "cell_type": "code",
   "execution_count": 4,
   "id": "bd1e3505",
   "metadata": {},
   "outputs": [
    {
     "data": {
      "text/plain": [
       "industrial_risk          0\n",
       "management_risk          0\n",
       "financial_flexibility    0\n",
       "credibility              0\n",
       "competitiveness          0\n",
       "operating_risk           0\n",
       "class                    0\n",
       "dtype: int64"
      ]
     },
     "execution_count": 4,
     "metadata": {},
     "output_type": "execute_result"
    }
   ],
   "source": [
    "data=data1.loc[:, :'class']\n",
    "data.isnull().sum()"
   ]
  },
  {
   "cell_type": "markdown",
   "id": "readme-3",
   "metadata": {},
   "source": [
    "---\n",
    "Perform data cleaning and feature engineering, use **`LabelEncoder`** to encode the categorical **`class`** column into a numerical format. Finally, display the first 5 rows of the modified DataFrame with the new **`class_encoded`** column."
   ]
  },
  {
   "cell_type": "code",
   "execution_count": 5,
   "id": "80293089",
   "metadata": {},
   "outputs": [
    {
     "data": {
      "text/html": [
       "<div>\n",
       "<style scoped>\n",
       "    .dataframe tbody tr th:only-of-type {\n",
       "        vertical-align: middle;\n",
       "    }\n",
       "\n",
       "    .dataframe tbody tr th {\n",
       "        vertical-align: top;\n",
       "    }\n",
       "\n",
       "    .dataframe thead th {\n",
       "        text-align: right;\n",
       "    }\n",
       "</style>\n",
       "<table border=\"1\" class=\"dataframe\">\n",
       "  <thead>\n",
       "    <tr style=\"text-align: right;\">\n",
       "      <th></th>\n",
       "      <th>industrial_risk</th>\n",
       "      <th>management_risk</th>\n",
       "      <th>financial_flexibility</th>\n",
       "      <th>credibility</th>\n",
       "      <th>competitiveness</th>\n",
       "      <th>operating_risk</th>\n",
       "      <th>class</th>\n",
       "      <th>class_encoded</th>\n",
       "    </tr>\n",
       "  </thead>\n",
       "  <tbody>\n",
       "    <tr>\n",
       "      <th>0</th>\n",
       "      <td>0.5</td>\n",
       "      <td>1.0</td>\n",
       "      <td>0.0</td>\n",
       "      <td>0.0</td>\n",
       "      <td>0.0</td>\n",
       "      <td>0.5</td>\n",
       "      <td>bankruptcy</td>\n",
       "      <td>0</td>\n",
       "    </tr>\n",
       "    <tr>\n",
       "      <th>1</th>\n",
       "      <td>0.0</td>\n",
       "      <td>1.0</td>\n",
       "      <td>0.0</td>\n",
       "      <td>0.0</td>\n",
       "      <td>0.0</td>\n",
       "      <td>1.0</td>\n",
       "      <td>bankruptcy</td>\n",
       "      <td>0</td>\n",
       "    </tr>\n",
       "    <tr>\n",
       "      <th>2</th>\n",
       "      <td>1.0</td>\n",
       "      <td>0.0</td>\n",
       "      <td>0.0</td>\n",
       "      <td>0.0</td>\n",
       "      <td>0.0</td>\n",
       "      <td>1.0</td>\n",
       "      <td>bankruptcy</td>\n",
       "      <td>0</td>\n",
       "    </tr>\n",
       "    <tr>\n",
       "      <th>3</th>\n",
       "      <td>0.5</td>\n",
       "      <td>0.0</td>\n",
       "      <td>0.0</td>\n",
       "      <td>0.5</td>\n",
       "      <td>0.0</td>\n",
       "      <td>1.0</td>\n",
       "      <td>bankruptcy</td>\n",
       "      <td>0</td>\n",
       "    </tr>\n",
       "    <tr>\n",
       "      <th>4</th>\n",
       "      <td>1.0</td>\n",
       "      <td>1.0</td>\n",
       "      <td>0.0</td>\n",
       "      <td>0.0</td>\n",
       "      <td>0.0</td>\n",
       "      <td>1.0</td>\n",
       "      <td>bankruptcy</td>\n",
       "      <td>0</td>\n",
       "    </tr>\n",
       "  </tbody>\n",
       "</table>\n",
       "</div>"
      ],
      "text/plain": [
       "   industrial_risk  management_risk  financial_flexibility  credibility  \\\n",
       "0              0.5              1.0                    0.0          0.0   \n",
       "1              0.0              1.0                    0.0          0.0   \n",
       "2              1.0              0.0                    0.0          0.0   \n",
       "3              0.5              0.0                    0.0          0.5   \n",
       "4              1.0              1.0                    0.0          0.0   \n",
       "\n",
       "   competitiveness  operating_risk       class  class_encoded  \n",
       "0              0.0             0.5  bankruptcy              0  \n",
       "1              0.0             1.0  bankruptcy              0  \n",
       "2              0.0             1.0  bankruptcy              0  \n",
       "3              0.0             1.0  bankruptcy              0  \n",
       "4              0.0             1.0  bankruptcy              0  "
      ]
     },
     "execution_count": 5,
     "metadata": {},
     "output_type": "execute_result"
    }
   ],
   "source": [
    "le = LabelEncoder()\n",
    "data['class_encoded'] = le.fit_transform(data['class'])\n",
    "data.head()"
   ]
  },
  {
   "cell_type": "markdown",
   "id": "readme-4",
   "metadata": {},
   "source": [
    "## **Feature Dependency**\n",
    "---\n",
    "\n",
    "Calculate the correlation between the features and the target variable `class_encoded`.First create a new DataFrame `df` that excludes the original `class` column. Then, calculate the correlation of each feature with `class_encoded` and sort them in descending order. Finally, print the correlation values.\n",
    "\n",
    "By this we understand the importence of each feature on the deciding the output.\n"
   ]
  },
  {
   "cell_type": "code",
   "execution_count": 6,
   "id": "500823a4",
   "metadata": {},
   "outputs": [
    {
     "name": "stdout",
     "output_type": "stream",
     "text": [
      "class_encoded            1.000000\n",
      "competitiveness          0.899452\n",
      "credibility              0.755909\n",
      "financial_flexibility    0.751020\n",
      "industrial_risk         -0.227823\n",
      "operating_risk          -0.279786\n",
      "management_risk         -0.370838\n",
      "Name: class_encoded, dtype: float64\n"
     ]
    }
   ],
   "source": [
    "df=data.loc[:, data.columns !='class']\n",
    "correlation = df.corr()['class_encoded'].sort_values(ascending=False)\n",
    "print(correlation)"
   ]
  },
  {
   "cell_type": "markdown",
   "id": "8df4930d",
   "metadata": {},
   "source": [
    "From the **Corelation** we clearly understand the higher imact is due to **`competitiveness`**,**`credibility`**, **`financial_flexibility`**\n",
    "\n",
    "Eventhough remaining had low corelation that to imacting negetively we also considering them and taking all data features."
   ]
  },
  {
   "cell_type": "markdown",
   "id": "readme-5",
   "metadata": {},
   "source": [
    "---\n",
    "Split the data into features (X) and target (y). `X` contains all the columns from the beginning up to `operating_risk`, while `y` contains the `class_encoded` column. Then displays the first 5 rows of both `X` and `y`.\n"
   ]
  },
  {
   "cell_type": "code",
   "execution_count": 7,
   "id": "a3397099",
   "metadata": {},
   "outputs": [
    {
     "data": {
      "text/plain": [
       "(   industrial_risk  management_risk  financial_flexibility  credibility  \\\n",
       " 0              0.5              1.0                    0.0          0.0   \n",
       " 1              0.0              1.0                    0.0          0.0   \n",
       " 2              1.0              0.0                    0.0          0.0   \n",
       " 3              0.5              0.0                    0.0          0.5   \n",
       " 4              1.0              1.0                    0.0          0.0   \n",
       " \n",
       "    competitiveness  operating_risk  \n",
       " 0              0.0             0.5  \n",
       " 1              0.0             1.0  \n",
       " 2              0.0             1.0  \n",
       " 3              0.0             1.0  \n",
       " 4              0.0             1.0  ,\n",
       " 0    0\n",
       " 1    0\n",
       " 2    0\n",
       " 3    0\n",
       " 4    0\n",
       " Name: class_encoded, dtype: int64)"
      ]
     },
     "execution_count": 7,
     "metadata": {},
     "output_type": "execute_result"
    }
   ],
   "source": [
    "X,y=data.loc[:, :'operating_risk'], data['class_encoded']\n",
    "X.head(),y.head()"
   ]
  },
  {
   "cell_type": "markdown",
   "id": "readme-6",
   "metadata": {},
   "source": [
    "## **Training**\n",
    "---\n",
    "split the data into training and testing sets. 80% of the data is used for training and 20% for testing. The `random_state` is set for reproducibility. Finally, print the shapes of the training and testing sets."
   ]
  },
  {
   "cell_type": "code",
   "execution_count": 8,
   "id": "18085ddb",
   "metadata": {},
   "outputs": [
    {
     "data": {
      "text/plain": [
       "((200, 6), (50, 6), (200,), (50,))"
      ]
     },
     "execution_count": 8,
     "metadata": {},
     "output_type": "execute_result"
    }
   ],
   "source": [
    "trainx, testx, trainy, testy = train_test_split(X, y, test_size=0.2, random_state=73)\n",
    "trainx.shape, testx.shape, trainy.shape, testy.shape"
   ]
  },
  {
   "cell_type": "markdown",
   "id": "readme-7",
   "metadata": {},
   "source": [
    "## **Import Models**\n",
    "---\n",
    "\n",
    "Imports the machine learning models that will be used for classification: `LogisticRegression`, `RandomForestClassifier`, and `GaussianNB`."
   ]
  },
  {
   "cell_type": "code",
   "execution_count": 9,
   "id": "8dd1dc99",
   "metadata": {},
   "outputs": [],
   "source": [
    "\n",
    "from sklearn.linear_model import LogisticRegression\n",
    "from sklearn.ensemble import RandomForestClassifier\n",
    "from sklearn.naive_bayes import GaussianNB"
   ]
  },
  {
   "cell_type": "markdown",
   "id": "readme-8",
   "metadata": {},
   "source": [
    "\n",
    "---\n",
    "\n",
    "initializee, traine, and make predictions with the three imported models. Each model is first instantiated, then trained on the training data (`trainx`, `trainy`), and finally used to make predictions on the testing data (`testx`)."
   ]
  },
  {
   "cell_type": "code",
   "execution_count": 10,
   "id": "67589e87",
   "metadata": {},
   "outputs": [],
   "source": [
    "model1=LogisticRegression()\n",
    "model2=RandomForestClassifier()\n",
    "model3=GaussianNB()\n",
    "model1.fit(trainx,trainy)\n",
    "model2.fit(trainx,trainy)\n",
    "model3.fit(trainx,trainy)\n",
    "pred1=model1.predict(testx)\n",
    "pred2=model2.predict(testx)\n",
    "pred3=model3.predict(testx)"
   ]
  },
  {
   "cell_type": "markdown",
   "id": "readme-9",
   "metadata": {},
   "source": [
    "## **Evaluation**\n",
    "---\n",
    "\n",
    "Evaluates the performance of the three models using the accuracy score.Import the `accuracy_score` function from `sklearn.metrics`, calculate the accuracy for each model by comparing the predicted values with the actual values, and then print the accuracy of each model."
   ]
  },
  {
   "cell_type": "code",
   "execution_count": 11,
   "id": "d27fd7c7",
   "metadata": {},
   "outputs": [
    {
     "name": "stdout",
     "output_type": "stream",
     "text": [
      "Accuracy of Logistic Regression: 1.0\n",
      "Accuracy of Random Forest Classifier: 1.0\n",
      "Accuracy of Gaussian Naive Bayes: 0.98\n"
     ]
    }
   ],
   "source": [
    "from sklearn.metrics import accuracy_score\n",
    "accuracy1=accuracy_score(testy,pred1)\n",
    "print(\"Accuracy of Logistic Regression:\", accuracy1)\n",
    "accuracy2=accuracy_score(testy,pred2)\n",
    "print(\"Accuracy of Random Forest Classifier:\", accuracy2)\n",
    "accuracy3=accuracy_score(testy,pred3)\n",
    "print(\"Accuracy of Gaussian Naive Bayes:\", accuracy3)"
   ]
  },
  {
   "cell_type": "markdown",
   "id": "e9b1b2c1",
   "metadata": {},
   "source": [
    "## **Save Models**\n",
    "---\n",
    "\n",
    "Save the Models"
   ]
  },
  {
   "cell_type": "code",
   "execution_count": 12,
   "id": "db1d1aa4",
   "metadata": {},
   "outputs": [
    {
     "data": {
      "text/plain": [
       "['models/label_encoder.pkl']"
      ]
     },
     "execution_count": 12,
     "metadata": {},
     "output_type": "execute_result"
    }
   ],
   "source": [
    "import joblib\n",
    "joblib.dump(model1, 'models/logistic_regression_model.pkl')\n",
    "joblib.dump(model2, 'models/random_forest_model.pkl')\n",
    "joblib.dump(model3, 'models/gaussian_nb_model.pkl')\n",
    "joblib.dump(le, 'models/label_encoder.pkl')\n"
   ]
  },
  {
   "cell_type": "code",
   "execution_count": null,
   "id": "4f15729a",
   "metadata": {},
   "outputs": [],
   "source": []
  }
 ],
 "metadata": {
  "kernelspec": {
   "display_name": "venv",
   "language": "python",
   "name": "python3"
  },
  "language_info": {
   "codemirror_mode": {
    "name": "ipython",
    "version": 3
   },
   "file_extension": ".py",
   "mimetype": "text/x-python",
   "name": "python",
   "nbconvert_exporter": "python",
   "pygments_lexer": "ipython3",
   "version": "3.13.8"
  }
 },
 "nbformat": 4,
 "nbformat_minor": 5
}
